{
 "cells": [
  {
   "cell_type": "code",
   "execution_count": 1,
   "metadata": {},
   "outputs": [],
   "source": [
    "import os\n",
    "import cv2\n",
    "import numpy as np\n",
    "path = os.getcwd()+\"/Ressam/\"\n",
    "folderNames = os.listdir(path)\n",
    "XSample, ySample = [], []\n",
    "\n",
    "for i, folderName in enumerate(folderNames):\n",
    "    folderPath = os.path.join(path, folderName)\n",
    "    if os.path.isdir(folderPath):  # Yalnızca dizinleri işleyin\n",
    "        for j, file in enumerate([f for f in os.listdir(folderPath)\n",
    "                                  if os.path.isfile(os.path.join(folderPath, f)) and f != \".DS_Store\"]):\n",
    "            img = cv2.resize(cv2.imread(os.path.join(folderPath, file)),\n",
    "                             (128, 128), interpolation=cv2.INTER_LINEAR) / 255.0\n",
    "            XSample.append(np.asarray(img))"
   ]
  }
 ],
 "metadata": {
  "kernelspec": {
   "display_name": ".venv",
   "language": "python",
   "name": "python3"
  },
  "language_info": {
   "codemirror_mode": {
    "name": "ipython",
    "version": 3
   },
   "file_extension": ".py",
   "mimetype": "text/x-python",
   "name": "python",
   "nbconvert_exporter": "python",
   "pygments_lexer": "ipython3",
   "version": "3.10.7"
  }
 },
 "nbformat": 4,
 "nbformat_minor": 2
}
