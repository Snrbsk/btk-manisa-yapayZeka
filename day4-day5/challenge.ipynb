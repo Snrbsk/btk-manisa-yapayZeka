{
 "cells": [
  {
   "cell_type": "code",
   "execution_count": 34,
   "metadata": {},
   "outputs": [
    {
     "name": "stdout",
     "output_type": "stream",
     "text": [
      "      Education  JoiningYear       City  PaymentTier  Age  Gender EverBenched  \\\n",
      "0     Bachelors         2017  Bangalore            3   34    Male          No   \n",
      "1     Bachelors         2013       Pune            1   28  Female          No   \n",
      "2     Bachelors         2014  New Delhi            3   38  Female          No   \n",
      "3       Masters         2016  Bangalore            3   27    Male          No   \n",
      "4       Masters         2017       Pune            3   24    Male         Yes   \n",
      "...         ...          ...        ...          ...  ...     ...         ...   \n",
      "4648  Bachelors         2013  Bangalore            3   26  Female          No   \n",
      "4649    Masters         2013       Pune            2   37    Male          No   \n",
      "4650    Masters         2018  New Delhi            3   27    Male          No   \n",
      "4651  Bachelors         2012  Bangalore            3   30    Male         Yes   \n",
      "4652  Bachelors         2015  Bangalore            3   33    Male         Yes   \n",
      "\n",
      "      ExperienceInCurrentDomain  LeaveOrNot  \n",
      "0                             0           0  \n",
      "1                             3           1  \n",
      "2                             2           0  \n",
      "3                             5           1  \n",
      "4                             2           1  \n",
      "...                         ...         ...  \n",
      "4648                          4           0  \n",
      "4649                          2           1  \n",
      "4650                          5           1  \n",
      "4651                          2           0  \n",
      "4652                          4           0  \n",
      "\n",
      "[4653 rows x 9 columns]\n",
      "<class 'pandas.core.frame.DataFrame'>\n",
      "RangeIndex: 4653 entries, 0 to 4652\n",
      "Data columns (total 9 columns):\n",
      " #   Column                     Non-Null Count  Dtype \n",
      "---  ------                     --------------  ----- \n",
      " 0   Education                  4653 non-null   object\n",
      " 1   JoiningYear                4653 non-null   int64 \n",
      " 2   City                       4653 non-null   object\n",
      " 3   PaymentTier                4653 non-null   int64 \n",
      " 4   Age                        4653 non-null   int64 \n",
      " 5   Gender                     4653 non-null   object\n",
      " 6   EverBenched                4653 non-null   object\n",
      " 7   ExperienceInCurrentDomain  4653 non-null   int64 \n",
      " 8   LeaveOrNot                 4653 non-null   int64 \n",
      "dtypes: int64(5), object(4)\n",
      "memory usage: 327.3+ KB\n"
     ]
    }
   ],
   "source": [
    "import pandas as pd\n",
    "import numpy as np\n",
    "\n",
    "dataset=pd.read_csv(r\"Employee.csv\")\n",
    "print(dataset)\n",
    "dataset.info()"
   ]
  },
  {
   "cell_type": "code",
   "execution_count": 35,
   "metadata": {},
   "outputs": [
    {
     "name": "stdout",
     "output_type": "stream",
     "text": [
      "41\n",
      "22\n"
     ]
    }
   ],
   "source": [
    "print(max(dataset.Age))\n",
    "print(min(dataset.Age))\n",
    "#bin1=[21,26,31,36,41]\n",
    "#group1=['21-26','26-31','31-36','36-41']\n",
    "#dataset['Age']=pd.cut(dataset['Age'],bins=bin1,labels=group1)\n",
    "#print(dataset)"
   ]
  },
  {
   "cell_type": "code",
   "execution_count": 36,
   "metadata": {},
   "outputs": [
    {
     "name": "stdout",
     "output_type": "stream",
     "text": [
      "<class 'pandas.core.frame.DataFrame'>\n",
      "RangeIndex: 4653 entries, 0 to 4652\n",
      "Data columns (total 8 columns):\n",
      " #   Column                     Non-Null Count  Dtype \n",
      "---  ------                     --------------  ----- \n",
      " 0   JoiningYear                4653 non-null   int64 \n",
      " 1   City                       4653 non-null   object\n",
      " 2   PaymentTier                4653 non-null   int64 \n",
      " 3   Age                        4653 non-null   int64 \n",
      " 4   Gender                     4653 non-null   object\n",
      " 5   EverBenched                4653 non-null   object\n",
      " 6   ExperienceInCurrentDomain  4653 non-null   int64 \n",
      " 7   LeaveOrNot                 4653 non-null   int64 \n",
      "dtypes: int64(5), object(3)\n",
      "memory usage: 290.9+ KB\n"
     ]
    }
   ],
   "source": [
    "dataset=dataset.drop(\"Education\", axis=1)\n",
    "dataset.info()"
   ]
  },
  {
   "cell_type": "code",
   "execution_count": 37,
   "metadata": {},
   "outputs": [
    {
     "name": "stdout",
     "output_type": "stream",
     "text": [
      "[34 28 38 27 24 22 23 37 32 39 29 30 36 31 25 26 40 35 33 41]\n"
     ]
    }
   ],
   "source": [
    "XSample=dataset.iloc[:,0:8]\n",
    "ySample=dataset.LeaveOrNot\n",
    "print(dataset.Age.unique())"
   ]
  },
  {
   "cell_type": "code",
   "execution_count": 39,
   "metadata": {},
   "outputs": [
    {
     "data": {
      "image/png": "[encoded data removed]",
      "text/plain": [
       "<Figure size 640x480 with 1 Axes>"
      ]
     },
     "metadata": {},
     "output_type": "display_data"
    }
   ],
   "source": [
    "plt.pie(dataset.JoiningYear.unique(),labels=[\"2017\", \"2013\", \"2014\", \"2016\", \"2015\", \"2012\", \"2018\"], colors=[\"Red\",\"Green\",\"Yellow\",\"Blue\",\"Purple\",\"Orange\",\"Pink\"], autopct=\"%1.1f%%\")\n",
    "plt.show()"
   ]
  },
  {
   "cell_type": "code",
   "execution_count": null,
   "metadata": {},
   "outputs": [],
   "source": [
    "plt.pie(dataset.JoiningYear.unique(),labels=[\"2017\", \"2013\", \"2014\", \"2016\", \"2015\", \"2012\", \"2018\"], colors=[\"Red\",\"Green\",\"Yellow\",\"Blue\",\"Purple\",\"Orange\",\"Pink\"], autopct=\"%1.1f%%\")\n",
    "plt.show()"
   ]
  },
  {
   "cell_type": "code",
   "execution_count": null,
   "metadata": {},
   "outputs": [
    {
     "name": "stdout",
     "output_type": "stream",
     "text": [
      "      JoiningYear  City  PaymentTier  Age  Gender  EverBenched  \\\n",
      "0               5     0            3    2       1            0   \n",
      "1               1     2            1    1       0            0   \n",
      "2               2     1            3    3       0            0   \n",
      "3               4     0            3    1       1            0   \n",
      "4               5     2            3    0       1            1   \n",
      "...           ...   ...          ...  ...     ...          ...   \n",
      "4648            1     0            3    0       0            0   \n",
      "4649            1     2            2    3       1            0   \n",
      "4650            6     1            3    1       1            0   \n",
      "4651            0     0            3    1       1            1   \n",
      "4652            3     0            3    2       1            1   \n",
      "\n",
      "      ExperienceInCurrentDomain  LeaveOrNot  \n",
      "0                             0           0  \n",
      "1                             3           1  \n",
      "2                             2           0  \n",
      "3                             5           1  \n",
      "4                             2           1  \n",
      "...                         ...         ...  \n",
      "4648                          4           0  \n",
      "4649                          2           1  \n",
      "4650                          5           1  \n",
      "4651                          2           0  \n",
      "4652                          4           0  \n",
      "\n",
      "[4653 rows x 8 columns]\n"
     ]
    }
   ],
   "source": [
    "from sklearn.preprocessing import LabelEncoder\n",
    "le=LabelEncoder()\n",
    "#XSample.Education=le.fit_transform(XSample.Education)\n",
    "XSample.JoiningYear=le.fit_transform(XSample.JoiningYear)\n",
    "XSample.City=le.fit_transform(XSample.City)\n",
    "XSample.Age=le.fit_transform(XSample.Age)\n",
    "XSample.Gender=le.fit_transform(XSample.Gender)\n",
    "XSample.EverBenched=le.fit_transform(XSample.EverBenched)\n",
    "print(XSample)"
   ]
  },
  {
   "cell_type": "code",
   "execution_count": null,
   "metadata": {},
   "outputs": [
    {
     "name": "stdout",
     "output_type": "stream",
     "text": [
      "(4653, 8)\n",
      "(3722, 8)\n",
      "(931, 8)\n"
     ]
    }
   ],
   "source": [
    "from sklearn.model_selection import train_test_split\n",
    "XTrain,XTest,yTrain,yTest=train_test_split(XSample,ySample,test_size=0.20,random_state=10) #yüzde20luk kısmını test için ayırdık\n",
    "\n",
    "print(XSample.shape)\n",
    "print(XTrain.shape)\n",
    "print(XTest.shape)"
   ]
  },
  {
   "cell_type": "code",
   "execution_count": null,
   "metadata": {},
   "outputs": [
    {
     "name": "stdout",
     "output_type": "stream",
     "text": [
      "              precision    recall  f1-score   support\n",
      "\n",
      "           0       0.96      0.99      0.97       600\n",
      "           1       0.99      0.92      0.95       331\n",
      "\n",
      "    accuracy                           0.97       931\n",
      "   macro avg       0.97      0.96      0.96       931\n",
      "weighted avg       0.97      0.97      0.97       931\n",
      "\n"
     ]
    },
    {
     "data": {
      "image/png": "[encoded data removed]",
      "text/plain": [
       "<Figure size 640x480 with 2 Axes>"
      ]
     },
     "metadata": {},
     "output_type": "display_data"
    }
   ],
   "source": [
    "import matplotlib.pyplot as plt\n",
    "from sklearn.neighbors import KNeighborsClassifier\n",
    "from sklearn import metrics\n",
    "  #Train Kısmı\n",
    "classifier=KNeighborsClassifier(n_neighbors=9, metric=\"minkowski\", p=1)\n",
    "classifier.fit(XTrain,yTrain) \n",
    "  #Test Kısmı\n",
    "yTestPred=classifier.predict(XTest)\n",
    "print(metrics.classification_report(yTest, yTestPred)) \n",
    "\n",
    "cm=metrics.confusion_matrix(yTest,yTestPred,normalize=\"true\").round(2)\n",
    "disp=metrics.ConfusionMatrixDisplay(confusion_matrix=cm)\n",
    "disp=disp.plot(cmap=plt.cm.GnBu, values_format=\"g\") \n",
    "plt.show()"
   ]
  }
 ],
 "metadata": {
  "kernelspec": {
   "display_name": "yapayzeka",
   "language": "python",
   "name": "python3"
  },
  "language_info": {
   "codemirror_mode": {
    "name": "ipython",
    "version": 3
   },
   "file_extension": ".py",
   "mimetype": "text/x-python",
   "name": "python",
   "nbconvert_exporter": "python",
   "pygments_lexer": "ipython3",
   "version": "3.12.4"
  }
 },
 "nbformat": 4,
 "nbformat_minor": 2
}
